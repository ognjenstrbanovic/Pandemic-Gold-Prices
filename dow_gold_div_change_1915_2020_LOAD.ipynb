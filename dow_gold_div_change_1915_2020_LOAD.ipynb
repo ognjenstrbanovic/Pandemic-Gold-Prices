{
 "cells": [
  {
   "cell_type": "code",
   "execution_count": 1,
   "metadata": {},
   "outputs": [],
   "source": [
    "import pymongo\n",
    "import pandas as pd\n",
    "import numpy as np\n",
    "import datetime as datetime"
   ]
  },
  {
   "cell_type": "code",
   "execution_count": 2,
   "metadata": {},
   "outputs": [],
   "source": [
    "combo_df = pd.read_csv('data/dow_gold_div_change_1915_2020.csv', encoding='utf-8', delimiter=',', engine='python')"
   ]
  },
  {
   "cell_type": "code",
   "execution_count": 3,
   "metadata": {
    "scrolled": true
   },
   "outputs": [
    {
     "data": {
      "text/html": [
       "<div>\n",
       "<style scoped>\n",
       "    .dataframe tbody tr th:only-of-type {\n",
       "        vertical-align: middle;\n",
       "    }\n",
       "\n",
       "    .dataframe tbody tr th {\n",
       "        vertical-align: top;\n",
       "    }\n",
       "\n",
       "    .dataframe thead th {\n",
       "        text-align: right;\n",
       "    }\n",
       "</style>\n",
       "<table border=\"1\" class=\"dataframe\">\n",
       "  <thead>\n",
       "    <tr style=\"text-align: right;\">\n",
       "      <th></th>\n",
       "      <th>year</th>\n",
       "      <th>month</th>\n",
       "      <th>dow_average</th>\n",
       "      <th>month_int</th>\n",
       "      <th>gold_price</th>\n",
       "      <th>DOW_div_gold</th>\n",
       "      <th>dow_div_gold_monthly_change</th>\n",
       "    </tr>\n",
       "  </thead>\n",
       "  <tbody>\n",
       "    <tr>\n",
       "      <th>0</th>\n",
       "      <td>1915</td>\n",
       "      <td>Jan</td>\n",
       "      <td>57.25</td>\n",
       "      <td>1</td>\n",
       "      <td>19.25</td>\n",
       "      <td>2.974208</td>\n",
       "      <td>NaN</td>\n",
       "    </tr>\n",
       "    <tr>\n",
       "      <th>1</th>\n",
       "      <td>1915</td>\n",
       "      <td>Feb</td>\n",
       "      <td>56.07</td>\n",
       "      <td>2</td>\n",
       "      <td>19.25</td>\n",
       "      <td>2.912843</td>\n",
       "      <td>-0.06</td>\n",
       "    </tr>\n",
       "    <tr>\n",
       "      <th>2</th>\n",
       "      <td>1915</td>\n",
       "      <td>Mar</td>\n",
       "      <td>57.58</td>\n",
       "      <td>3</td>\n",
       "      <td>19.25</td>\n",
       "      <td>2.991237</td>\n",
       "      <td>0.08</td>\n",
       "    </tr>\n",
       "    <tr>\n",
       "      <th>3</th>\n",
       "      <td>1915</td>\n",
       "      <td>Apr</td>\n",
       "      <td>66.79</td>\n",
       "      <td>4</td>\n",
       "      <td>19.25</td>\n",
       "      <td>3.469536</td>\n",
       "      <td>0.48</td>\n",
       "    </tr>\n",
       "    <tr>\n",
       "      <th>4</th>\n",
       "      <td>1915</td>\n",
       "      <td>May</td>\n",
       "      <td>64.85</td>\n",
       "      <td>5</td>\n",
       "      <td>19.25</td>\n",
       "      <td>3.368675</td>\n",
       "      <td>-0.10</td>\n",
       "    </tr>\n",
       "    <tr>\n",
       "      <th>...</th>\n",
       "      <td>...</td>\n",
       "      <td>...</td>\n",
       "      <td>...</td>\n",
       "      <td>...</td>\n",
       "      <td>...</td>\n",
       "      <td>...</td>\n",
       "      <td>...</td>\n",
       "    </tr>\n",
       "    <tr>\n",
       "      <th>1260</th>\n",
       "      <td>2020</td>\n",
       "      <td>Jan</td>\n",
       "      <td>28,879.99</td>\n",
       "      <td>1</td>\n",
       "      <td>1580.85</td>\n",
       "      <td>18.268649</td>\n",
       "      <td>-0.23</td>\n",
       "    </tr>\n",
       "    <tr>\n",
       "      <th>1261</th>\n",
       "      <td>2020</td>\n",
       "      <td>Feb</td>\n",
       "      <td>28,519.73</td>\n",
       "      <td>2</td>\n",
       "      <td>1626.35</td>\n",
       "      <td>17.536036</td>\n",
       "      <td>-0.73</td>\n",
       "    </tr>\n",
       "    <tr>\n",
       "      <th>1262</th>\n",
       "      <td>2020</td>\n",
       "      <td>Mar</td>\n",
       "      <td>22,637.42</td>\n",
       "      <td>3</td>\n",
       "      <td>1604.65</td>\n",
       "      <td>14.107388</td>\n",
       "      <td>-3.43</td>\n",
       "    </tr>\n",
       "    <tr>\n",
       "      <th>1263</th>\n",
       "      <td>2020</td>\n",
       "      <td>Apr</td>\n",
       "      <td>23,293.90</td>\n",
       "      <td>4</td>\n",
       "      <td>1716.75</td>\n",
       "      <td>13.568603</td>\n",
       "      <td>-0.54</td>\n",
       "    </tr>\n",
       "    <tr>\n",
       "      <th>1264</th>\n",
       "      <td>2020</td>\n",
       "      <td>May</td>\n",
       "      <td>24,146.48</td>\n",
       "      <td>5</td>\n",
       "      <td>1732.45</td>\n",
       "      <td>13.937766</td>\n",
       "      <td>0.37</td>\n",
       "    </tr>\n",
       "  </tbody>\n",
       "</table>\n",
       "<p>1265 rows × 7 columns</p>\n",
       "</div>"
      ],
      "text/plain": [
       "      year month dow_average  month_int  gold_price  DOW_div_gold  \\\n",
       "0     1915   Jan       57.25          1       19.25      2.974208   \n",
       "1     1915   Feb       56.07          2       19.25      2.912843   \n",
       "2     1915   Mar       57.58          3       19.25      2.991237   \n",
       "3     1915   Apr       66.79          4       19.25      3.469536   \n",
       "4     1915   May       64.85          5       19.25      3.368675   \n",
       "...    ...   ...         ...        ...         ...           ...   \n",
       "1260  2020   Jan   28,879.99          1     1580.85     18.268649   \n",
       "1261  2020   Feb   28,519.73          2     1626.35     17.536036   \n",
       "1262  2020   Mar   22,637.42          3     1604.65     14.107388   \n",
       "1263  2020   Apr   23,293.90          4     1716.75     13.568603   \n",
       "1264  2020   May   24,146.48          5     1732.45     13.937766   \n",
       "\n",
       "      dow_div_gold_monthly_change  \n",
       "0                             NaN  \n",
       "1                           -0.06  \n",
       "2                            0.08  \n",
       "3                            0.48  \n",
       "4                           -0.10  \n",
       "...                           ...  \n",
       "1260                        -0.23  \n",
       "1261                        -0.73  \n",
       "1262                        -3.43  \n",
       "1263                        -0.54  \n",
       "1264                         0.37  \n",
       "\n",
       "[1265 rows x 7 columns]"
      ]
     },
     "execution_count": 3,
     "metadata": {},
     "output_type": "execute_result"
    }
   ],
   "source": [
    "combo_df"
   ]
  },
  {
   "cell_type": "code",
   "execution_count": 4,
   "metadata": {},
   "outputs": [],
   "source": [
    "conn = 'mongodb://localhost:27017'"
   ]
  },
  {
   "cell_type": "code",
   "execution_count": 5,
   "metadata": {},
   "outputs": [],
   "source": [
    "client = pymongo.MongoClient(conn)"
   ]
  },
  {
   "cell_type": "code",
   "execution_count": 6,
   "metadata": {},
   "outputs": [
    {
     "data": {
      "text/plain": [
       "MongoClient(host=['localhost:27017'], document_class=dict, tz_aware=False, connect=True)"
      ]
     },
     "execution_count": 6,
     "metadata": {},
     "output_type": "execute_result"
    }
   ],
   "source": [
    "client"
   ]
  },
  {
   "cell_type": "code",
   "execution_count": 7,
   "metadata": {},
   "outputs": [],
   "source": [
    "db = client.myDB.dowGoldHistory"
   ]
  },
  {
   "cell_type": "code",
   "execution_count": 8,
   "metadata": {},
   "outputs": [],
   "source": [
    "db.drop()"
   ]
  },
  {
   "cell_type": "code",
   "execution_count": 9,
   "metadata": {},
   "outputs": [],
   "source": [
    "db = client.myDB.dowGoldHistory"
   ]
  },
  {
   "cell_type": "code",
   "execution_count": 10,
   "metadata": {},
   "outputs": [],
   "source": [
    "data = combo_df.to_dict(orient='records')"
   ]
  },
  {
   "cell_type": "code",
   "execution_count": 11,
   "metadata": {},
   "outputs": [
    {
     "data": {
      "text/plain": [
       "<pymongo.results.InsertManyResult at 0x119987e48>"
      ]
     },
     "execution_count": 11,
     "metadata": {},
     "output_type": "execute_result"
    }
   ],
   "source": [
    "db.insert_many(data)"
   ]
  },
  {
   "cell_type": "code",
   "execution_count": 12,
   "metadata": {},
   "outputs": [],
   "source": [
    "dataOut = db.find().sort('_id', -1)"
   ]
  },
  {
   "cell_type": "code",
   "execution_count": 13,
   "metadata": {},
   "outputs": [
    {
     "data": {
      "text/plain": [
       "1265"
      ]
     },
     "execution_count": 13,
     "metadata": {},
     "output_type": "execute_result"
    }
   ],
   "source": [
    "results_count = dataOut.collection.estimated_document_count()\n",
    "results_count"
   ]
  },
  {
   "cell_type": "code",
   "execution_count": 14,
   "metadata": {},
   "outputs": [
    {
     "data": {
      "text/plain": [
       "{'_id': ObjectId('5ed40e97ba5dcf3e9ada4194'),\n",
       " 'year': 2020,\n",
       " 'month': 'May',\n",
       " 'dow_average': '24,146.48',\n",
       " 'month_int': 5,\n",
       " 'gold_price': 1732.45,\n",
       " 'DOW_div_gold': 13.93776572,\n",
       " 'dow_div_gold_monthly_change': 0.37}"
      ]
     },
     "execution_count": 14,
     "metadata": {},
     "output_type": "execute_result"
    }
   ],
   "source": [
    "dataOut[0]"
   ]
  },
  {
   "cell_type": "code",
   "execution_count": null,
   "metadata": {},
   "outputs": [],
   "source": []
  }
 ],
 "metadata": {
  "kernelspec": {
   "display_name": "Python 3",
   "language": "python",
   "name": "python3"
  },
  "language_info": {
   "codemirror_mode": {
    "name": "ipython",
    "version": 3
   },
   "file_extension": ".py",
   "mimetype": "text/x-python",
   "name": "python",
   "nbconvert_exporter": "python",
   "pygments_lexer": "ipython3",
   "version": "3.7.4"
  }
 },
 "nbformat": 4,
 "nbformat_minor": 4
}
