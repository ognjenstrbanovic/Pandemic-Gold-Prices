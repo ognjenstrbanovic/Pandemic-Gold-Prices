{
 "cells": [
  {
   "cell_type": "code",
   "execution_count": 1,
   "metadata": {},
   "outputs": [],
   "source": [
    "# import what we need\n",
    "import pandas as pd\n",
    "import numpy as np\n",
    "import os\n",
    "import datetime as datetime\n",
    "import matplotlib.pyplot as plt\n",
    "import plotly.graph_objects as go"
   ]
  },
  {
   "cell_type": "code",
   "execution_count": 2,
   "metadata": {},
   "outputs": [
    {
     "output_type": "execute_result",
     "data": {
      "text/plain": "              Date closing value of DOW\n0       1/2/1897 �          ��� 29.8447\n1       1/4/1897 �          ��� 29.5736\n2       1/5/1897 �          ��� 29.9399\n3       1/6/1897 �          ��� 29.9985\n4       1/7/1897 �          ��� 29.9399\n...            ...                  ...\n23450  9/18/1980 �           ��� 956.48\n23451  9/19/1980 �           ��� 963.74\n23452  9/22/1980 �           ��� 974.57\n23453  9/23/1980 �           ��� 962.03\n23454  9/24/1980 �           ��� 964.76\n\n[23455 rows x 2 columns]",
      "text/html": "<div>\n<style scoped>\n    .dataframe tbody tr th:only-of-type {\n        vertical-align: middle;\n    }\n\n    .dataframe tbody tr th {\n        vertical-align: top;\n    }\n\n    .dataframe thead th {\n        text-align: right;\n    }\n</style>\n<table border=\"1\" class=\"dataframe\">\n  <thead>\n    <tr style=\"text-align: right;\">\n      <th></th>\n      <th>Date</th>\n      <th>closing value of DOW</th>\n    </tr>\n  </thead>\n  <tbody>\n    <tr>\n      <th>0</th>\n      <td>1/2/1897 �</td>\n      <td>��� 29.8447</td>\n    </tr>\n    <tr>\n      <th>1</th>\n      <td>1/4/1897 �</td>\n      <td>��� 29.5736</td>\n    </tr>\n    <tr>\n      <th>2</th>\n      <td>1/5/1897 �</td>\n      <td>��� 29.9399</td>\n    </tr>\n    <tr>\n      <th>3</th>\n      <td>1/6/1897 �</td>\n      <td>��� 29.9985</td>\n    </tr>\n    <tr>\n      <th>4</th>\n      <td>1/7/1897 �</td>\n      <td>��� 29.9399</td>\n    </tr>\n    <tr>\n      <th>...</th>\n      <td>...</td>\n      <td>...</td>\n    </tr>\n    <tr>\n      <th>23450</th>\n      <td>9/18/1980 �</td>\n      <td>��� 956.48</td>\n    </tr>\n    <tr>\n      <th>23451</th>\n      <td>9/19/1980 �</td>\n      <td>��� 963.74</td>\n    </tr>\n    <tr>\n      <th>23452</th>\n      <td>9/22/1980 �</td>\n      <td>��� 974.57</td>\n    </tr>\n    <tr>\n      <th>23453</th>\n      <td>9/23/1980 �</td>\n      <td>��� 962.03</td>\n    </tr>\n    <tr>\n      <th>23454</th>\n      <td>9/24/1980 �</td>\n      <td>��� 964.76</td>\n    </tr>\n  </tbody>\n</table>\n<p>23455 rows × 2 columns</p>\n</div>"
     },
     "metadata": {},
     "execution_count": 2
    }
   ],
   "source": [
    "# load DJIA csv into pandas_df\n",
    "DJIA_df = pd.read_csv('data/DJIA_ClosingValues_1896to2020.csv', encoding='utf-8', delimiter=',', engine='python')\n",
    "DJIA_df"
   ]
  },
  {
   "cell_type": "code",
   "execution_count": 3,
   "metadata": {},
   "outputs": [
    {
     "output_type": "execute_result",
     "data": {
      "text/plain": "             Date closing value of DOW\n0       1/2/1897               29.8447\n1       1/4/1897               29.5736\n2       1/5/1897               29.9399\n3       1/6/1897               29.9985\n4       1/7/1897               29.9399\n...           ...                  ...\n23450  9/18/1980                956.48\n23451  9/19/1980                963.74\n23452  9/22/1980                974.57\n23453  9/23/1980                962.03\n23454  9/24/1980                964.76\n\n[23455 rows x 2 columns]",
      "text/html": "<div>\n<style scoped>\n    .dataframe tbody tr th:only-of-type {\n        vertical-align: middle;\n    }\n\n    .dataframe tbody tr th {\n        vertical-align: top;\n    }\n\n    .dataframe thead th {\n        text-align: right;\n    }\n</style>\n<table border=\"1\" class=\"dataframe\">\n  <thead>\n    <tr style=\"text-align: right;\">\n      <th></th>\n      <th>Date</th>\n      <th>closing value of DOW</th>\n    </tr>\n  </thead>\n  <tbody>\n    <tr>\n      <th>0</th>\n      <td>1/2/1897</td>\n      <td>29.8447</td>\n    </tr>\n    <tr>\n      <th>1</th>\n      <td>1/4/1897</td>\n      <td>29.5736</td>\n    </tr>\n    <tr>\n      <th>2</th>\n      <td>1/5/1897</td>\n      <td>29.9399</td>\n    </tr>\n    <tr>\n      <th>3</th>\n      <td>1/6/1897</td>\n      <td>29.9985</td>\n    </tr>\n    <tr>\n      <th>4</th>\n      <td>1/7/1897</td>\n      <td>29.9399</td>\n    </tr>\n    <tr>\n      <th>...</th>\n      <td>...</td>\n      <td>...</td>\n    </tr>\n    <tr>\n      <th>23450</th>\n      <td>9/18/1980</td>\n      <td>956.48</td>\n    </tr>\n    <tr>\n      <th>23451</th>\n      <td>9/19/1980</td>\n      <td>963.74</td>\n    </tr>\n    <tr>\n      <th>23452</th>\n      <td>9/22/1980</td>\n      <td>974.57</td>\n    </tr>\n    <tr>\n      <th>23453</th>\n      <td>9/23/1980</td>\n      <td>962.03</td>\n    </tr>\n    <tr>\n      <th>23454</th>\n      <td>9/24/1980</td>\n      <td>964.76</td>\n    </tr>\n  </tbody>\n</table>\n<p>23455 rows × 2 columns</p>\n</div>"
     },
     "metadata": {},
     "execution_count": 3
    }
   ],
   "source": [
    "# remove unicode 'special' charachters\n",
    "DJIA_df['Date'] = DJIA_df['Date'].str.replace(\"�\", \"\")\n",
    "DJIA_df['closing value of DOW'] = DJIA_df['closing value of DOW'].str.replace(\"�\", \"\")\n",
    "DJIA_df"
   ]
  },
  {
   "cell_type": "code",
   "execution_count": 4,
   "metadata": {},
   "outputs": [
    {
     "output_type": "execute_result",
     "data": {
      "text/plain": "0       1897-01-02\n1       1897-01-04\n2       1897-01-05\n3       1897-01-06\n4       1897-01-07\n           ...    \n23450   1980-09-18\n23451   1980-09-19\n23452   1980-09-22\n23453   1980-09-23\n23454   1980-09-24\nName: Date, Length: 23455, dtype: datetime64[ns]"
     },
     "metadata": {},
     "execution_count": 4
    }
   ],
   "source": [
    "# convert 'Date' column values to datetime64[ns]\n",
    "DJIA_df['Date'] = pd.to_datetime(DJIA_df['Date'], infer_datetime_format=True)\n",
    "DJIA_df['Date']"
   ]
  },
  {
   "cell_type": "code",
   "execution_count": 5,
   "metadata": {},
   "outputs": [
    {
     "output_type": "execute_result",
     "data": {
      "text/plain": "0         29.84\n1         29.57\n2         29.94\n3         30.00\n4         29.94\n          ...  \n23450    956.48\n23451    963.74\n23452    974.57\n23453    962.03\n23454    964.76\nName: closing value of DOW, Length: 23455, dtype: float64"
     },
     "metadata": {},
     "execution_count": 5
    }
   ],
   "source": [
    "# convert 'closing value of DOW' column values to float64, then round every value to two decimal places\n",
    "DJIA_df['closing value of DOW'] = pd.to_numeric(DJIA_df['closing value of DOW'])\n",
    "DJIA_df['closing value of DOW'] = DJIA_df['closing value of DOW'].round(decimals=2)\n",
    "DJIA_df['closing value of DOW']"
   ]
  },
  {
   "cell_type": "code",
   "execution_count": 6,
   "metadata": {},
   "outputs": [
    {
     "data": {
      "text/html": [
       "<div>\n",
       "<style scoped>\n",
       "    .dataframe tbody tr th:only-of-type {\n",
       "        vertical-align: middle;\n",
       "    }\n",
       "\n",
       "    .dataframe tbody tr th {\n",
       "        vertical-align: top;\n",
       "    }\n",
       "\n",
       "    .dataframe thead th {\n",
       "        text-align: right;\n",
       "    }\n",
       "</style>\n",
       "<table border=\"1\" class=\"dataframe\">\n",
       "  <thead>\n",
       "    <tr style=\"text-align: right;\">\n",
       "      <th></th>\n",
       "      <th>Date</th>\n",
       "      <th>DJIA Close</th>\n",
       "    </tr>\n",
       "  </thead>\n",
       "  <tbody>\n",
       "    <tr>\n",
       "      <th>0</th>\n",
       "      <td>1897-01-02</td>\n",
       "      <td>29.84</td>\n",
       "    </tr>\n",
       "    <tr>\n",
       "      <th>1</th>\n",
       "      <td>1897-01-04</td>\n",
       "      <td>29.57</td>\n",
       "    </tr>\n",
       "    <tr>\n",
       "      <th>2</th>\n",
       "      <td>1897-01-05</td>\n",
       "      <td>29.94</td>\n",
       "    </tr>\n",
       "    <tr>\n",
       "      <th>3</th>\n",
       "      <td>1897-01-06</td>\n",
       "      <td>30.00</td>\n",
       "    </tr>\n",
       "    <tr>\n",
       "      <th>4</th>\n",
       "      <td>1897-01-07</td>\n",
       "      <td>29.94</td>\n",
       "    </tr>\n",
       "    <tr>\n",
       "      <th>...</th>\n",
       "      <td>...</td>\n",
       "      <td>...</td>\n",
       "    </tr>\n",
       "    <tr>\n",
       "      <th>23450</th>\n",
       "      <td>1980-09-18</td>\n",
       "      <td>956.48</td>\n",
       "    </tr>\n",
       "    <tr>\n",
       "      <th>23451</th>\n",
       "      <td>1980-09-19</td>\n",
       "      <td>963.74</td>\n",
       "    </tr>\n",
       "    <tr>\n",
       "      <th>23452</th>\n",
       "      <td>1980-09-22</td>\n",
       "      <td>974.57</td>\n",
       "    </tr>\n",
       "    <tr>\n",
       "      <th>23453</th>\n",
       "      <td>1980-09-23</td>\n",
       "      <td>962.03</td>\n",
       "    </tr>\n",
       "    <tr>\n",
       "      <th>23454</th>\n",
       "      <td>1980-09-24</td>\n",
       "      <td>964.76</td>\n",
       "    </tr>\n",
       "  </tbody>\n",
       "</table>\n",
       "<p>23455 rows × 2 columns</p>\n",
       "</div>"
      ],
      "text/plain": [
       "            Date  DJIA Close\n",
       "0     1897-01-02       29.84\n",
       "1     1897-01-04       29.57\n",
       "2     1897-01-05       29.94\n",
       "3     1897-01-06       30.00\n",
       "4     1897-01-07       29.94\n",
       "...          ...         ...\n",
       "23450 1980-09-18      956.48\n",
       "23451 1980-09-19      963.74\n",
       "23452 1980-09-22      974.57\n",
       "23453 1980-09-23      962.03\n",
       "23454 1980-09-24      964.76\n",
       "\n",
       "[23455 rows x 2 columns]"
      ]
     },
     "execution_count": 6,
     "metadata": {},
     "output_type": "execute_result"
    }
   ],
   "source": [
    "# simplify column name of closing values\n",
    "DJIA_df = DJIA_df.rename(columns = {'closing value of DOW': 'DJIA Close'})\n",
    "DJIA_df"
   ]
  },
  {
   "cell_type": "code",
   "execution_count": 7,
   "metadata": {},
   "outputs": [
    {
     "data": {
      "text/plain": [
       "DatetimeIndex(['1897-01-02', '1897-01-03', '1897-01-04', '1897-01-05',\n",
       "               '1897-01-06', '1897-01-07', '1897-01-08', '1897-01-09',\n",
       "               '1897-01-10', '1897-01-11',\n",
       "               ...\n",
       "               '1961-03-13', '1961-03-14', '1961-03-15', '1961-03-16',\n",
       "               '1961-03-17', '1961-03-18', '1961-03-19', '1961-03-20',\n",
       "               '1961-03-21', '1961-03-22'],\n",
       "              dtype='datetime64[ns]', length=23455, freq='D')"
      ]
     },
     "execution_count": 7,
     "metadata": {},
     "output_type": "execute_result"
    }
   ],
   "source": [
    "# get earliest date record\n",
    "minDate = DJIA_df['Date'].min()\n",
    "# count # days on record\n",
    "daysCount = DJIA_df['Date'].count()\n",
    "\n",
    "# make date_range using the earliest date record, over the number of days on record, with the frequency = daily\n",
    "DJIA_daterange = pd.date_range(start = minDate, periods = daysCount, freq='D')\n",
    "DJIA_daterange"
   ]
  },
  {
   "cell_type": "code",
   "execution_count": 8,
   "metadata": {},
   "outputs": [
    {
     "data": {
      "text/plain": [
       "1897-01-02     29.84\n",
       "1897-01-03     29.57\n",
       "1897-01-04     29.94\n",
       "1897-01-05     30.00\n",
       "1897-01-06     29.94\n",
       "               ...  \n",
       "1961-03-18    956.48\n",
       "1961-03-19    963.74\n",
       "1961-03-20    974.57\n",
       "1961-03-21    962.03\n",
       "1961-03-22    964.76\n",
       "Freq: D, Length: 23455, dtype: float64"
      ]
     },
     "execution_count": 8,
     "metadata": {},
     "output_type": "execute_result"
    }
   ],
   "source": [
    "# make DJIA daily series\n",
    "DJIA_dailySeries = pd.Series(data = DJIA_df['DJIA Close'].values, index = DJIA_daterange)\n",
    "DJIA_dailySeries"
   ]
  },
  {
   "cell_type": "code",
   "execution_count": 9,
   "metadata": {},
   "outputs": [],
   "source": [
    "# put year, month, and DJIA values into their own arrays\n",
    "years = []\n",
    "months = []\n",
    "values = []\n",
    "\n",
    "DJIA_monthlyResample = DJIA_dailySeries.resample('M').mean()\n",
    "DJIA_monthlyResample\n",
    "\n",
    "for index, value in DJIA_monthlyResample.items():\n",
    "    # print(f\"Year : {index.year}\")\n",
    "    # print(f\"Month : {index.month}\")\n",
    "    # print(f\"Value : {value}\")\n",
    "    y = int(index.year)\n",
    "    m = int(index.month)\n",
    "    v = int(value)\n",
    "    years.append(y)\n",
    "    months.append(m)\n",
    "    values.append(v)"
   ]
  },
  {
   "cell_type": "code",
   "execution_count": 10,
   "metadata": {},
   "outputs": [
    {
     "data": {
      "text/html": [
       "<div>\n",
       "<style scoped>\n",
       "    .dataframe tbody tr th:only-of-type {\n",
       "        vertical-align: middle;\n",
       "    }\n",
       "\n",
       "    .dataframe tbody tr th {\n",
       "        vertical-align: top;\n",
       "    }\n",
       "\n",
       "    .dataframe thead th {\n",
       "        text-align: right;\n",
       "    }\n",
       "</style>\n",
       "<table border=\"1\" class=\"dataframe\">\n",
       "  <thead>\n",
       "    <tr style=\"text-align: right;\">\n",
       "      <th></th>\n",
       "      <th>year</th>\n",
       "      <th>month</th>\n",
       "      <th>djia mean</th>\n",
       "      <th>yearmonth_str</th>\n",
       "    </tr>\n",
       "  </thead>\n",
       "  <tbody>\n",
       "    <tr>\n",
       "      <th>0</th>\n",
       "      <td>1897</td>\n",
       "      <td>01</td>\n",
       "      <td>30</td>\n",
       "      <td>1897-01</td>\n",
       "    </tr>\n",
       "    <tr>\n",
       "      <th>1</th>\n",
       "      <td>1897</td>\n",
       "      <td>02</td>\n",
       "      <td>30</td>\n",
       "      <td>1897-02</td>\n",
       "    </tr>\n",
       "    <tr>\n",
       "      <th>2</th>\n",
       "      <td>1897</td>\n",
       "      <td>03</td>\n",
       "      <td>29</td>\n",
       "      <td>1897-03</td>\n",
       "    </tr>\n",
       "    <tr>\n",
       "      <th>3</th>\n",
       "      <td>1897</td>\n",
       "      <td>04</td>\n",
       "      <td>28</td>\n",
       "      <td>1897-04</td>\n",
       "    </tr>\n",
       "    <tr>\n",
       "      <th>4</th>\n",
       "      <td>1897</td>\n",
       "      <td>05</td>\n",
       "      <td>30</td>\n",
       "      <td>1897-05</td>\n",
       "    </tr>\n",
       "    <tr>\n",
       "      <th>...</th>\n",
       "      <td>...</td>\n",
       "      <td>...</td>\n",
       "      <td>...</td>\n",
       "      <td>...</td>\n",
       "    </tr>\n",
       "    <tr>\n",
       "      <th>766</th>\n",
       "      <td>1960</td>\n",
       "      <td>11</td>\n",
       "      <td>792</td>\n",
       "      <td>1960-11</td>\n",
       "    </tr>\n",
       "    <tr>\n",
       "      <th>767</th>\n",
       "      <td>1960</td>\n",
       "      <td>12</td>\n",
       "      <td>816</td>\n",
       "      <td>1960-12</td>\n",
       "    </tr>\n",
       "    <tr>\n",
       "      <th>768</th>\n",
       "      <td>1961</td>\n",
       "      <td>01</td>\n",
       "      <td>876</td>\n",
       "      <td>1961-01</td>\n",
       "    </tr>\n",
       "    <tr>\n",
       "      <th>769</th>\n",
       "      <td>1961</td>\n",
       "      <td>02</td>\n",
       "      <td>938</td>\n",
       "      <td>1961-02</td>\n",
       "    </tr>\n",
       "    <tr>\n",
       "      <th>770</th>\n",
       "      <td>1961</td>\n",
       "      <td>03</td>\n",
       "      <td>947</td>\n",
       "      <td>1961-03</td>\n",
       "    </tr>\n",
       "  </tbody>\n",
       "</table>\n",
       "<p>771 rows × 4 columns</p>\n",
       "</div>"
      ],
      "text/plain": [
       "     year month  djia mean yearmonth_str\n",
       "0    1897    01         30       1897-01\n",
       "1    1897    02         30       1897-02\n",
       "2    1897    03         29       1897-03\n",
       "3    1897    04         28       1897-04\n",
       "4    1897    05         30       1897-05\n",
       "..    ...   ...        ...           ...\n",
       "766  1960    11        792       1960-11\n",
       "767  1960    12        816       1960-12\n",
       "768  1961    01        876       1961-01\n",
       "769  1961    02        938       1961-02\n",
       "770  1961    03        947       1961-03\n",
       "\n",
       "[771 rows x 4 columns]"
      ]
     },
     "execution_count": 10,
     "metadata": {},
     "output_type": "execute_result"
    }
   ],
   "source": [
    "# put it all together in df\n",
    "monthlyCleanData = {'year': years, 'month': months, 'djia mean': values}\n",
    "DJIA_monthlyMean = pd.DataFrame.from_dict(monthlyCleanData)\n",
    "DJIA_monthlyMean['month'] = DJIA_monthlyMean['month'].map(\"{:02}\".format)\n",
    "DJIA_monthlyMean['yearmonth_str'] = DJIA_monthlyMean['year'].astype(str) + \"-\" + DJIA_monthlyMean['month'].astype(str)\n",
    "DJIA_monthlyMean"
   ]
  },
  {
   "cell_type": "code",
   "execution_count": 11,
   "metadata": {},
   "outputs": [],
   "source": [
    "# push to data folder as csv\n",
    "DJIA_monthlyMean.to_csv('data/CLEAN_DJIA_monthlyMean.csv')"
   ]
  },
  {
   "cell_type": "code",
   "execution_count": 12,
   "metadata": {
    "scrolled": true
   },
   "outputs": [
    {
     "data": {
      "text/html": [
       "<div>\n",
       "<style scoped>\n",
       "    .dataframe tbody tr th:only-of-type {\n",
       "        vertical-align: middle;\n",
       "    }\n",
       "\n",
       "    .dataframe tbody tr th {\n",
       "        vertical-align: top;\n",
       "    }\n",
       "\n",
       "    .dataframe thead th {\n",
       "        text-align: right;\n",
       "    }\n",
       "</style>\n",
       "<table border=\"1\" class=\"dataframe\">\n",
       "  <thead>\n",
       "    <tr style=\"text-align: right;\">\n",
       "      <th></th>\n",
       "      <th>djia mean</th>\n",
       "    </tr>\n",
       "    <tr>\n",
       "      <th>year</th>\n",
       "      <th></th>\n",
       "    </tr>\n",
       "  </thead>\n",
       "  <tbody>\n",
       "    <tr>\n",
       "      <th>1897</th>\n",
       "      <td>33.083333</td>\n",
       "    </tr>\n",
       "    <tr>\n",
       "      <th>1898</th>\n",
       "      <td>42.666667</td>\n",
       "    </tr>\n",
       "    <tr>\n",
       "      <th>1899</th>\n",
       "      <td>48.166667</td>\n",
       "    </tr>\n",
       "    <tr>\n",
       "      <th>1900</th>\n",
       "      <td>48.916667</td>\n",
       "    </tr>\n",
       "    <tr>\n",
       "      <th>1901</th>\n",
       "      <td>47.083333</td>\n",
       "    </tr>\n",
       "    <tr>\n",
       "      <th>...</th>\n",
       "      <td>...</td>\n",
       "    </tr>\n",
       "    <tr>\n",
       "      <th>1957</th>\n",
       "      <td>765.666667</td>\n",
       "    </tr>\n",
       "    <tr>\n",
       "      <th>1958</th>\n",
       "      <td>964.000000</td>\n",
       "    </tr>\n",
       "    <tr>\n",
       "      <th>1959</th>\n",
       "      <td>830.000000</td>\n",
       "    </tr>\n",
       "    <tr>\n",
       "      <th>1960</th>\n",
       "      <td>839.166667</td>\n",
       "    </tr>\n",
       "    <tr>\n",
       "      <th>1961</th>\n",
       "      <td>920.333333</td>\n",
       "    </tr>\n",
       "  </tbody>\n",
       "</table>\n",
       "<p>65 rows × 1 columns</p>\n",
       "</div>"
      ],
      "text/plain": [
       "       djia mean\n",
       "year            \n",
       "1897   33.083333\n",
       "1898   42.666667\n",
       "1899   48.166667\n",
       "1900   48.916667\n",
       "1901   47.083333\n",
       "...          ...\n",
       "1957  765.666667\n",
       "1958  964.000000\n",
       "1959  830.000000\n",
       "1960  839.166667\n",
       "1961  920.333333\n",
       "\n",
       "[65 rows x 1 columns]"
      ]
     },
     "execution_count": 12,
     "metadata": {},
     "output_type": "execute_result"
    }
   ],
   "source": [
    "# show mean daily close values for each year\n",
    "DJIA_monthlyMean.groupby(['year']).mean()"
   ]
  },
  {
   "cell_type": "code",
   "execution_count": 13,
   "metadata": {},
   "outputs": [
    {
     "data": {
      "text/plain": [
       "[<matplotlib.lines.Line2D at 0x11a6acd68>]"
      ]
     },
     "execution_count": 13,
     "metadata": {},
     "output_type": "execute_result"
    },
    {
     "data": {
      "image/png": "[encoded data removed]",
      "text/plain": [
       "<Figure size 720x360 with 1 Axes>"
      ]
     },
     "metadata": {
      "needs_background": "light"
     },
     "output_type": "display_data"
    }
   ],
   "source": [
    "# plot the year-month against the daily djia mean for the month\n",
    "plt.rcParams['figure.figsize'] = [10, 5]\n",
    "plt.plot(DJIA_monthlyMean['yearmonth_str'], DJIA_monthlyMean['djia mean'])"
   ]
  },
  {
   "cell_type": "code",
   "execution_count": null,
   "metadata": {},
   "outputs": [],
   "source": [
    "# plan\n",
    "# push djia_df to csv\n",
    "# ETL gold data csv (csv -> pd_df)\n",
    "# push gold pd_df to csv\n",
    "# push djia_csv and gold_csv to pd_dfs in new .ipynb\n",
    "# merge djia_df "
   ]
  }
 ],
 "metadata": {
  "kernelspec": {
   "display_name": "Python 3.6.10 64-bit ('PythonData': conda)",
   "language": "python",
   "name": "python361064bitpythondataconda0a52652b70964207b9724f62825370b4"
  },
  "language_info": {
   "codemirror_mode": {
    "name": "ipython",
    "version": 3
   },
   "file_extension": ".py",
   "mimetype": "text/x-python",
   "name": "python",
   "nbconvert_exporter": "python",
   "pygments_lexer": "ipython3",
   "version": "3.6.10-final"
  }
 },
 "nbformat": 4,
 "nbformat_minor": 4
}